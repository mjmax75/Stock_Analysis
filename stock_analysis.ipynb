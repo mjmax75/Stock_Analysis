{
 "cells": [
  {
   "cell_type": "markdown",
   "metadata": {},
   "source": [
    "### Loading the Data"
   ]
  },
  {
   "cell_type": "code",
   "execution_count": 1,
   "metadata": {},
   "outputs": [],
   "source": [
    "import pandas as pd\n",
    "import matplotlib.pyplot as plt\n",
    "import numpy as np\n",
    "import seaborn as sns\n",
    "sns.set()\n",
    "\n",
    "plt.rcParams['font.family'] = 'AppleGothic'  \n",
    "plt.rcParams['axes.unicode_minus'] = False    "
   ]
  },
  {
   "cell_type": "code",
   "execution_count": 2,
   "metadata": {},
   "outputs": [
    {
     "name": "stdout",
     "output_type": "stream",
     "text": [
      "read csv adj_close ...\n",
      "done!  (2278, 582)\n",
      "read csv mc ...\n",
      "done!  (2278, 582)\n",
      "read csv sales ...\n",
      "done!  (2278, 582)\n",
      "read csv op ...\n",
      "done!  (2278, 582)\n",
      "read csv ni ...\n",
      "done!  (2278, 582)\n",
      "read csv liab ...\n",
      "done!  (2278, 582)\n",
      "read csv eq ...\n",
      "done!  (2278, 582)\n"
     ]
    }
   ],
   "source": [
    "d = {}\n",
    "\n",
    "for data_name in ['adj_close', 'mc', 'sales', 'op', 'ni', 'liab', 'eq']:\n",
    "    print(f\"read csv {data_name} ...\")\n",
    "    d[data_name] = pd.read_csv(f\"stock.{data_name}.csv\", index_col=0, encoding='cp949', parse_dates=True)\n",
    "    print(f\"done!  {d[data_name].shape}\")"
   ]
  },
  {
   "cell_type": "markdown",
   "metadata": {},
   "source": [
    "### Data Information\n",
    "\n",
    "* Data file: stock.{table_name}.csv\n",
    "* Data time frame: 2018-06-01 ~ 2020-10-14 \n",
    "* Number of stocks: 2,278\n",
    "* The currency of the data is in Won (South Korea Currency)\n",
    "* Explanation of each dataset\n",
    "  * `stock.adj_close.csv`: the adjusted closing price for each stock.\n",
    "  * `stock.mc.csv`: the market capitalization in millions of Won \n",
    "  * `stock.sales.csv`: the sales revenue in millions of Won \n",
    "  * `stock.op.csv`: the operating profit in millions of Won\n",
    "  * `stock.ni.csv`: the net income in millions of Won \n",
    "  * `stock.liab.csv`: the liabilities in millions of Won\n",
    "  * `stock.eq.csv`: the equity in millions of Won\n",
    "  * `stock.itemname.csv`: the stock code and the item name\n",
    "  * `stock.sector.csv`: the stock code and the sector"
   ]
  }
 ],
 "metadata": {
  "interpreter": {
   "hash": "31f2aee4e71d21fbe5cf8b01ff0e069b9275f58929596ceb00d14d90e3e16cd6"
  },
  "kernelspec": {
   "display_name": "Python 3.8.9 64-bit",
   "language": "python",
   "name": "python3"
  },
  "language_info": {
   "codemirror_mode": {
    "name": "ipython",
    "version": 3
   },
   "file_extension": ".py",
   "mimetype": "text/x-python",
   "name": "python",
   "nbconvert_exporter": "python",
   "pygments_lexer": "ipython3",
   "version": "3.9.7"
  },
  "orig_nbformat": 4
 },
 "nbformat": 4,
 "nbformat_minor": 2
}
